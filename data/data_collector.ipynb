{
 "cells": [
  {
   "cell_type": "markdown",
   "metadata": {},
   "source": [
    "### Library"
   ]
  },
  {
   "cell_type": "code",
   "execution_count": 1,
   "metadata": {
    "executionInfo": {
     "elapsed": 1593,
     "status": "ok",
     "timestamp": 1618780144452,
     "user": {
      "displayName": "Erwin Tobing",
      "photoUrl": "https://lh6.googleusercontent.com/-3W77iDcE0Tk/AAAAAAAAAAI/AAAAAAAAAXw/e4O0aLS0jNs/s64/photo.jpg",
      "userId": "13448132913538778163"
     },
     "user_tz": -420
    },
    "id": "rQux2uAnPBR3"
   },
   "outputs": [],
   "source": [
    "import requests\n",
    "import json\n",
    "\n",
    "import pandas as pd\n",
    "import time"
   ]
  },
  {
   "cell_type": "markdown",
   "metadata": {},
   "source": [
    "### Fungsi untuk mengambil data dari API"
   ]
  },
  {
   "cell_type": "code",
   "execution_count": 2,
   "metadata": {
    "executionInfo": {
     "elapsed": 1582,
     "status": "ok",
     "timestamp": 1618780144456,
     "user": {
      "displayName": "Erwin Tobing",
      "photoUrl": "https://lh6.googleusercontent.com/-3W77iDcE0Tk/AAAAAAAAAAI/AAAAAAAAAXw/e4O0aLS0jNs/s64/photo.jpg",
      "userId": "13448132913538778163"
     },
     "user_tz": -420
    },
    "id": "F8StVwFhPK-1"
   },
   "outputs": [],
   "source": [
    "link ='https://api.opendota.com/api/publicMatches'\n",
    "# link = 'https://api.opendota.com/api/proMatches'\n",
    "\n",
    "def fetch_newdata():\n",
    "    r = requests.get(link)\n",
    "    data = json.loads(r.text) # load json data\n",
    "    \n",
    "    new_df = pd.DataFrame(data)                    # save json data to dafaframe\n",
    "    new_df = new_df[(new_df['avg_mmr'] > 1999 ) &  # filter dataframe \n",
    "                    (new_df['lobby_type'] == 7) &\n",
    "                    (new_df['game_mode'] == 22)] \n",
    "    \n",
    "    return new_df"
   ]
  },
  {
   "cell_type": "markdown",
   "metadata": {},
   "source": [
    "### Start program selama running time"
   ]
  },
  {
   "cell_type": "code",
   "execution_count": 3,
   "metadata": {
    "id": "EUEXXMDgPMQo"
   },
   "outputs": [
    {
     "name": "stdout",
     "output_type": "stream",
     "text": [
      "total call : 6 times\n",
      "fetching data time :  6 minutes 5 seconds\n",
      "rows fetched : 95\n"
     ]
    }
   ],
   "source": [
    "running_time = 0.1                            # in hour\n",
    "start_time = time.time()\n",
    "\n",
    "df = pd.DataFrame()                         # make new data frame\n",
    "# df = pd.read_csv('new_raw_data.csv')      # continue\n",
    "rows_count_before = df.shape[0]\n",
    "new_df = pd.DataFrame()  \n",
    "call_counter = 0\n",
    "error_counter = 0\n",
    "    \n",
    "while True:\n",
    "    call_counter += 1\n",
    "    \n",
    "    new_df = fetch_newdata()\n",
    "    df = pd.concat([df, new_df]).drop_duplicates('match_id').reset_index(drop=True)      # add new data\n",
    "    df.to_csv('new_data.csv', sep=',', index=False)                                      # save new data\n",
    "   \n",
    "    time.sleep(60)                                 # fetching data every 60 second\n",
    "    fetching_time = time.time() - start_time\n",
    "    if fetching_time > (running_time * 3600):      # stop fetching \n",
    "        break                        \n",
    "        \n",
    "ex_time = time.time() - start_time\n",
    "rows_fetched = df.shape[0] - rows_count_before\n",
    "print(\"total call : %d times\" % (call_counter))\n",
    "print(\"fetching data time :  %s minutes %d seconds\" % (int(ex_time/60), int(ex_time%60))) \n",
    "print(\"rows fetched : %d\" % (rows_fetched))"
   ]
  },
  {
   "cell_type": "code",
   "execution_count": 4,
   "metadata": {
    "id": "TcC6auxkQPnP"
   },
   "outputs": [
    {
     "data": {
      "text/plain": [
       "False"
      ]
     },
     "execution_count": 4,
     "metadata": {},
     "output_type": "execute_result"
    }
   ],
   "source": [
    "df.duplicated('match_id').any()"
   ]
  },
  {
   "cell_type": "markdown",
   "metadata": {},
   "source": [
    "### Memastikan data pertandingan yang diambil data pertandingan selesai"
   ]
  },
  {
   "cell_type": "code",
   "execution_count": 5,
   "metadata": {
    "id": "TwSlgJqGQ6ZF"
   },
   "outputs": [
    {
     "name": "stdout",
     "output_type": "stream",
     "text": [
      "uncompleted match before removed : 0\n",
      "uncompleted match after removed  : 0\n"
     ]
    }
   ],
   "source": [
    "print(\"uncompleted match before removed : %d\" % (df.isnull().sum().sum()))\n",
    "df = df[df['avg_mmr'].notna()]\n",
    "print(\"uncompleted match after removed  : %d\" % (df.isnull().sum().sum()))"
   ]
  },
  {
   "cell_type": "markdown",
   "metadata": {},
   "source": [
    "### Mengambil dan menampilkan data hero"
   ]
  },
  {
   "cell_type": "code",
   "execution_count": 6,
   "metadata": {},
   "outputs": [],
   "source": [
    "# pd.set_option('display.max_rows', None)"
   ]
  },
  {
   "cell_type": "code",
   "execution_count": 7,
   "metadata": {},
   "outputs": [
    {
     "data": {
      "text/html": [
       "<div>\n",
       "<style scoped>\n",
       "    .dataframe tbody tr th:only-of-type {\n",
       "        vertical-align: middle;\n",
       "    }\n",
       "\n",
       "    .dataframe tbody tr th {\n",
       "        vertical-align: top;\n",
       "    }\n",
       "\n",
       "    .dataframe thead th {\n",
       "        text-align: right;\n",
       "    }\n",
       "</style>\n",
       "<table border=\"1\" class=\"dataframe\">\n",
       "  <thead>\n",
       "    <tr style=\"text-align: right;\">\n",
       "      <th></th>\n",
       "      <th>id</th>\n",
       "      <th>name</th>\n",
       "      <th>localized_name</th>\n",
       "      <th>primary_attr</th>\n",
       "      <th>attack_type</th>\n",
       "      <th>roles</th>\n",
       "      <th>legs</th>\n",
       "    </tr>\n",
       "  </thead>\n",
       "  <tbody>\n",
       "    <tr>\n",
       "      <th>0</th>\n",
       "      <td>1</td>\n",
       "      <td>npc_dota_hero_antimage</td>\n",
       "      <td>Anti-Mage</td>\n",
       "      <td>agi</td>\n",
       "      <td>Melee</td>\n",
       "      <td>[Carry, Escape, Nuker]</td>\n",
       "      <td>2</td>\n",
       "    </tr>\n",
       "    <tr>\n",
       "      <th>1</th>\n",
       "      <td>2</td>\n",
       "      <td>npc_dota_hero_axe</td>\n",
       "      <td>Axe</td>\n",
       "      <td>str</td>\n",
       "      <td>Melee</td>\n",
       "      <td>[Initiator, Durable, Disabler, Jungler, Carry]</td>\n",
       "      <td>2</td>\n",
       "    </tr>\n",
       "    <tr>\n",
       "      <th>2</th>\n",
       "      <td>3</td>\n",
       "      <td>npc_dota_hero_bane</td>\n",
       "      <td>Bane</td>\n",
       "      <td>int</td>\n",
       "      <td>Ranged</td>\n",
       "      <td>[Support, Disabler, Nuker, Durable]</td>\n",
       "      <td>4</td>\n",
       "    </tr>\n",
       "    <tr>\n",
       "      <th>3</th>\n",
       "      <td>4</td>\n",
       "      <td>npc_dota_hero_bloodseeker</td>\n",
       "      <td>Bloodseeker</td>\n",
       "      <td>agi</td>\n",
       "      <td>Melee</td>\n",
       "      <td>[Carry, Disabler, Jungler, Nuker, Initiator]</td>\n",
       "      <td>2</td>\n",
       "    </tr>\n",
       "    <tr>\n",
       "      <th>4</th>\n",
       "      <td>5</td>\n",
       "      <td>npc_dota_hero_crystal_maiden</td>\n",
       "      <td>Crystal Maiden</td>\n",
       "      <td>int</td>\n",
       "      <td>Ranged</td>\n",
       "      <td>[Support, Disabler, Nuker, Jungler]</td>\n",
       "      <td>2</td>\n",
       "    </tr>\n",
       "    <tr>\n",
       "      <th>...</th>\n",
       "      <td>...</td>\n",
       "      <td>...</td>\n",
       "      <td>...</td>\n",
       "      <td>...</td>\n",
       "      <td>...</td>\n",
       "      <td>...</td>\n",
       "      <td>...</td>\n",
       "    </tr>\n",
       "    <tr>\n",
       "      <th>116</th>\n",
       "      <td>123</td>\n",
       "      <td>npc_dota_hero_hoodwink</td>\n",
       "      <td>Hoodwink</td>\n",
       "      <td>agi</td>\n",
       "      <td>Ranged</td>\n",
       "      <td>[Support, Nuker, Escape, Disabler]</td>\n",
       "      <td>4</td>\n",
       "    </tr>\n",
       "    <tr>\n",
       "      <th>117</th>\n",
       "      <td>126</td>\n",
       "      <td>npc_dota_hero_void_spirit</td>\n",
       "      <td>Void Spirit</td>\n",
       "      <td>int</td>\n",
       "      <td>Melee</td>\n",
       "      <td>[Carry, Escape, Nuker, Disabler]</td>\n",
       "      <td>2</td>\n",
       "    </tr>\n",
       "    <tr>\n",
       "      <th>118</th>\n",
       "      <td>128</td>\n",
       "      <td>npc_dota_hero_snapfire</td>\n",
       "      <td>Snapfire</td>\n",
       "      <td>str</td>\n",
       "      <td>Ranged</td>\n",
       "      <td>[Support, Nuker, Disabler, Escape]</td>\n",
       "      <td>2</td>\n",
       "    </tr>\n",
       "    <tr>\n",
       "      <th>119</th>\n",
       "      <td>129</td>\n",
       "      <td>npc_dota_hero_mars</td>\n",
       "      <td>Mars</td>\n",
       "      <td>str</td>\n",
       "      <td>Melee</td>\n",
       "      <td>[Carry, Initiator, Disabler, Durable]</td>\n",
       "      <td>2</td>\n",
       "    </tr>\n",
       "    <tr>\n",
       "      <th>120</th>\n",
       "      <td>135</td>\n",
       "      <td>npc_dota_hero_dawnbreaker</td>\n",
       "      <td>Dawnbreaker</td>\n",
       "      <td>str</td>\n",
       "      <td>Melee</td>\n",
       "      <td>[Carry, Durable]</td>\n",
       "      <td>2</td>\n",
       "    </tr>\n",
       "  </tbody>\n",
       "</table>\n",
       "<p>121 rows × 7 columns</p>\n",
       "</div>"
      ],
      "text/plain": [
       "      id                          name  localized_name primary_attr  \\\n",
       "0      1        npc_dota_hero_antimage       Anti-Mage          agi   \n",
       "1      2             npc_dota_hero_axe             Axe          str   \n",
       "2      3            npc_dota_hero_bane            Bane          int   \n",
       "3      4     npc_dota_hero_bloodseeker     Bloodseeker          agi   \n",
       "4      5  npc_dota_hero_crystal_maiden  Crystal Maiden          int   \n",
       "..   ...                           ...             ...          ...   \n",
       "116  123        npc_dota_hero_hoodwink        Hoodwink          agi   \n",
       "117  126     npc_dota_hero_void_spirit     Void Spirit          int   \n",
       "118  128        npc_dota_hero_snapfire        Snapfire          str   \n",
       "119  129            npc_dota_hero_mars            Mars          str   \n",
       "120  135     npc_dota_hero_dawnbreaker     Dawnbreaker          str   \n",
       "\n",
       "    attack_type                                           roles  legs  \n",
       "0         Melee                          [Carry, Escape, Nuker]     2  \n",
       "1         Melee  [Initiator, Durable, Disabler, Jungler, Carry]     2  \n",
       "2        Ranged             [Support, Disabler, Nuker, Durable]     4  \n",
       "3         Melee    [Carry, Disabler, Jungler, Nuker, Initiator]     2  \n",
       "4        Ranged             [Support, Disabler, Nuker, Jungler]     2  \n",
       "..          ...                                             ...   ...  \n",
       "116      Ranged              [Support, Nuker, Escape, Disabler]     4  \n",
       "117       Melee                [Carry, Escape, Nuker, Disabler]     2  \n",
       "118      Ranged              [Support, Nuker, Disabler, Escape]     2  \n",
       "119       Melee           [Carry, Initiator, Disabler, Durable]     2  \n",
       "120       Melee                                [Carry, Durable]     2  \n",
       "\n",
       "[121 rows x 7 columns]"
      ]
     },
     "execution_count": 7,
     "metadata": {},
     "output_type": "execute_result"
    }
   ],
   "source": [
    "link = 'https://api.opendota.com/api/heroes'\n",
    "\n",
    "r = requests.get(link)\n",
    "data = json.loads(r.text) # load json data\n",
    "    \n",
    "heroes_df = pd.DataFrame(data)                    # save json data to dafaframe\n",
    "heroes_df"
   ]
  }
 ],
 "metadata": {
  "colab": {
   "authorship_tag": "ABX9TyMHBLZpWH182fq9mHdRBN/S",
   "collapsed_sections": [],
   "name": "opendota_fetcher.ipynb",
   "provenance": []
  },
  "kernelspec": {
   "display_name": "Python 3",
   "language": "python",
   "name": "python3"
  },
  "language_info": {
   "codemirror_mode": {
    "name": "ipython",
    "version": 3
   },
   "file_extension": ".py",
   "mimetype": "text/x-python",
   "name": "python",
   "nbconvert_exporter": "python",
   "pygments_lexer": "ipython3",
   "version": "3.9.6"
  }
 },
 "nbformat": 4,
 "nbformat_minor": 1
}
