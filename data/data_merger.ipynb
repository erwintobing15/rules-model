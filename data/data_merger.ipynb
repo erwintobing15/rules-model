{
 "cells": [
  {
   "cell_type": "code",
   "execution_count": 1,
   "metadata": {},
   "outputs": [],
   "source": [
    "import pandas as pd"
   ]
  },
  {
   "cell_type": "markdown",
   "metadata": {},
   "source": [
    "### Membaca data mentah dan data baru"
   ]
  },
  {
   "cell_type": "code",
   "execution_count": 2,
   "metadata": {},
   "outputs": [],
   "source": [
    "df_old = pd.read_csv('raw_data.csv')\n",
    "df_new = pd.read_csv('new_data.csv')"
   ]
  },
  {
   "cell_type": "markdown",
   "metadata": {},
   "source": [
    "### Merge data mentah dan data baru"
   ]
  },
  {
   "cell_type": "code",
   "execution_count": 3,
   "metadata": {},
   "outputs": [],
   "source": [
    "df = pd.concat([df_old, df_new]).drop_duplicates('match_id').reset_index(drop=True)"
   ]
  },
  {
   "cell_type": "markdown",
   "metadata": {},
   "source": [
    "### Membersihkan dan menyaring data hasil penggabungan"
   ]
  },
  {
   "cell_type": "code",
   "execution_count": 4,
   "metadata": {},
   "outputs": [],
   "source": [
    "df = df[(df['lobby_type'] == 7) & (df['game_mode'] == 22)]"
   ]
  },
  {
   "cell_type": "code",
   "execution_count": 5,
   "metadata": {},
   "outputs": [
    {
     "data": {
      "text/plain": [
       "False"
      ]
     },
     "execution_count": 5,
     "metadata": {},
     "output_type": "execute_result"
    }
   ],
   "source": [
    "# check duplicated data\n",
    "df.duplicated('match_id').any()"
   ]
  },
  {
   "cell_type": "code",
   "execution_count": 6,
   "metadata": {},
   "outputs": [
    {
     "name": "stdout",
     "output_type": "stream",
     "text": [
      "uncompleted match before removed : 0\n",
      "uncompleted match after removed  : 0\n"
     ]
    }
   ],
   "source": [
    "# check uncompleted match\n",
    "print(\"uncompleted match before removed : %d\" % (df.isnull().sum().sum()))\n",
    "df = df[df['avg_mmr'].notna()]\n",
    "print(\"uncompleted match after removed  : %d\" % (df.isnull().sum().sum()))"
   ]
  },
  {
   "cell_type": "code",
   "execution_count": 7,
   "metadata": {},
   "outputs": [
    {
     "data": {
      "text/plain": [
       "0"
      ]
     },
     "execution_count": 7,
     "metadata": {},
     "output_type": "execute_result"
    }
   ],
   "source": [
    "# missing data\n",
    "df.isnull().sum().sum()"
   ]
  },
  {
   "cell_type": "markdown",
   "metadata": {},
   "source": [
    "### Menyimpan data hasil penggabungan"
   ]
  },
  {
   "cell_type": "code",
   "execution_count": 8,
   "metadata": {},
   "outputs": [
    {
     "name": "stdout",
     "output_type": "stream",
     "text": [
      "Total data before merged : 622170\n",
      "Total data after merged  : 643107\n",
      "Total new data added     : 20937\n"
     ]
    }
   ],
   "source": [
    "# save all merged data\n",
    "df.to_csv('raw_data.csv', sep=',', index=False)\n",
    "print(\"Total data before merged : %d\" % (df_old.shape[0]))\n",
    "print(\"Total data after merged  : %d\" % (df.shape[0]))\n",
    "print(\"Total new data added     : %d\" % (df.shape[0]-df_old.shape[0]))"
   ]
  },
  {
   "cell_type": "code",
   "execution_count": 9,
   "metadata": {},
   "outputs": [
    {
     "data": {
      "text/html": [
       "<div>\n",
       "<style scoped>\n",
       "    .dataframe tbody tr th:only-of-type {\n",
       "        vertical-align: middle;\n",
       "    }\n",
       "\n",
       "    .dataframe tbody tr th {\n",
       "        vertical-align: top;\n",
       "    }\n",
       "\n",
       "    .dataframe thead th {\n",
       "        text-align: right;\n",
       "    }\n",
       "</style>\n",
       "<table border=\"1\" class=\"dataframe\">\n",
       "  <thead>\n",
       "    <tr style=\"text-align: right;\">\n",
       "      <th></th>\n",
       "      <th>match_id</th>\n",
       "      <th>match_seq_num</th>\n",
       "      <th>radiant_win</th>\n",
       "      <th>start_time</th>\n",
       "      <th>duration</th>\n",
       "      <th>avg_mmr</th>\n",
       "      <th>num_mmr</th>\n",
       "      <th>lobby_type</th>\n",
       "      <th>game_mode</th>\n",
       "      <th>avg_rank_tier</th>\n",
       "      <th>num_rank_tier</th>\n",
       "      <th>cluster</th>\n",
       "      <th>radiant_team</th>\n",
       "      <th>dire_team</th>\n",
       "    </tr>\n",
       "  </thead>\n",
       "  <tbody>\n",
       "    <tr>\n",
       "      <th>0</th>\n",
       "      <td>5937688909</td>\n",
       "      <td>4978118542</td>\n",
       "      <td>False</td>\n",
       "      <td>1618056811</td>\n",
       "      <td>947</td>\n",
       "      <td>5384.0</td>\n",
       "      <td>2.0</td>\n",
       "      <td>7</td>\n",
       "      <td>22</td>\n",
       "      <td>80</td>\n",
       "      <td>5</td>\n",
       "      <td>155</td>\n",
       "      <td>19,120,107,79,94</td>\n",
       "      <td>31,49,70,110,25</td>\n",
       "    </tr>\n",
       "    <tr>\n",
       "      <th>1</th>\n",
       "      <td>5937680202</td>\n",
       "      <td>4978115238</td>\n",
       "      <td>True</td>\n",
       "      <td>1618056560</td>\n",
       "      <td>1116</td>\n",
       "      <td>3938.0</td>\n",
       "      <td>3.0</td>\n",
       "      <td>7</td>\n",
       "      <td>22</td>\n",
       "      <td>64</td>\n",
       "      <td>8</td>\n",
       "      <td>171</td>\n",
       "      <td>128,5,8,59,112</td>\n",
       "      <td>85,6,56,42,45</td>\n",
       "    </tr>\n",
       "    <tr>\n",
       "      <th>2</th>\n",
       "      <td>5937677706</td>\n",
       "      <td>4978115412</td>\n",
       "      <td>True</td>\n",
       "      <td>1618056484</td>\n",
       "      <td>1245</td>\n",
       "      <td>4343.0</td>\n",
       "      <td>2.0</td>\n",
       "      <td>7</td>\n",
       "      <td>22</td>\n",
       "      <td>52</td>\n",
       "      <td>5</td>\n",
       "      <td>151</td>\n",
       "      <td>135,70,104,59,31</td>\n",
       "      <td>58,44,107,46,87</td>\n",
       "    </tr>\n",
       "    <tr>\n",
       "      <th>3</th>\n",
       "      <td>5937677414</td>\n",
       "      <td>4978110742</td>\n",
       "      <td>False</td>\n",
       "      <td>1618056474</td>\n",
       "      <td>1019</td>\n",
       "      <td>3626.0</td>\n",
       "      <td>3.0</td>\n",
       "      <td>7</td>\n",
       "      <td>22</td>\n",
       "      <td>57</td>\n",
       "      <td>7</td>\n",
       "      <td>274</td>\n",
       "      <td>20,71,82,114,66</td>\n",
       "      <td>26,46,89,129,14</td>\n",
       "    </tr>\n",
       "    <tr>\n",
       "      <th>4</th>\n",
       "      <td>5937677106</td>\n",
       "      <td>4978110923</td>\n",
       "      <td>True</td>\n",
       "      <td>1618056464</td>\n",
       "      <td>1082</td>\n",
       "      <td>3216.0</td>\n",
       "      <td>3.0</td>\n",
       "      <td>7</td>\n",
       "      <td>22</td>\n",
       "      <td>43</td>\n",
       "      <td>7</td>\n",
       "      <td>227</td>\n",
       "      <td>26,8,104,87,11</td>\n",
       "      <td>73,70,135,42,67</td>\n",
       "    </tr>\n",
       "    <tr>\n",
       "      <th>...</th>\n",
       "      <td>...</td>\n",
       "      <td>...</td>\n",
       "      <td>...</td>\n",
       "      <td>...</td>\n",
       "      <td>...</td>\n",
       "      <td>...</td>\n",
       "      <td>...</td>\n",
       "      <td>...</td>\n",
       "      <td>...</td>\n",
       "      <td>...</td>\n",
       "      <td>...</td>\n",
       "      <td>...</td>\n",
       "      <td>...</td>\n",
       "      <td>...</td>\n",
       "    </tr>\n",
       "    <tr>\n",
       "      <th>643102</th>\n",
       "      <td>6089060118</td>\n",
       "      <td>5097314681</td>\n",
       "      <td>True</td>\n",
       "      <td>1626324382</td>\n",
       "      <td>2027</td>\n",
       "      <td>4018.0</td>\n",
       "      <td>1.0</td>\n",
       "      <td>7</td>\n",
       "      <td>22</td>\n",
       "      <td>35</td>\n",
       "      <td>3</td>\n",
       "      <td>251</td>\n",
       "      <td>87,1,84,17,104</td>\n",
       "      <td>10,33,74,30,83</td>\n",
       "    </tr>\n",
       "    <tr>\n",
       "      <th>643103</th>\n",
       "      <td>6089059309</td>\n",
       "      <td>5097314620</td>\n",
       "      <td>False</td>\n",
       "      <td>1626324296</td>\n",
       "      <td>2028</td>\n",
       "      <td>4248.0</td>\n",
       "      <td>1.0</td>\n",
       "      <td>7</td>\n",
       "      <td>22</td>\n",
       "      <td>60</td>\n",
       "      <td>2</td>\n",
       "      <td>251</td>\n",
       "      <td>65,10,14,9,26</td>\n",
       "      <td>27,8,90,74,88</td>\n",
       "    </tr>\n",
       "    <tr>\n",
       "      <th>643104</th>\n",
       "      <td>6089059010</td>\n",
       "      <td>5097314819</td>\n",
       "      <td>False</td>\n",
       "      <td>1626324291</td>\n",
       "      <td>2173</td>\n",
       "      <td>3255.0</td>\n",
       "      <td>2.0</td>\n",
       "      <td>7</td>\n",
       "      <td>22</td>\n",
       "      <td>47</td>\n",
       "      <td>6</td>\n",
       "      <td>171</td>\n",
       "      <td>98,51,5,32,93</td>\n",
       "      <td>83,6,44,84,16</td>\n",
       "    </tr>\n",
       "    <tr>\n",
       "      <th>643105</th>\n",
       "      <td>6089058315</td>\n",
       "      <td>5097314572</td>\n",
       "      <td>True</td>\n",
       "      <td>1626324235</td>\n",
       "      <td>2098</td>\n",
       "      <td>3272.0</td>\n",
       "      <td>2.0</td>\n",
       "      <td>7</td>\n",
       "      <td>22</td>\n",
       "      <td>48</td>\n",
       "      <td>6</td>\n",
       "      <td>155</td>\n",
       "      <td>102,123,84,76,8</td>\n",
       "      <td>62,46,26,47,44</td>\n",
       "    </tr>\n",
       "    <tr>\n",
       "      <th>643106</th>\n",
       "      <td>6089058006</td>\n",
       "      <td>5097314694</td>\n",
       "      <td>True</td>\n",
       "      <td>1626324210</td>\n",
       "      <td>2188</td>\n",
       "      <td>2404.0</td>\n",
       "      <td>2.0</td>\n",
       "      <td>7</td>\n",
       "      <td>22</td>\n",
       "      <td>30</td>\n",
       "      <td>2</td>\n",
       "      <td>122</td>\n",
       "      <td>42,16,86,68,101</td>\n",
       "      <td>6,2,119,129,5</td>\n",
       "    </tr>\n",
       "  </tbody>\n",
       "</table>\n",
       "<p>643107 rows × 14 columns</p>\n",
       "</div>"
      ],
      "text/plain": [
       "          match_id  match_seq_num  radiant_win  start_time  duration  avg_mmr  \\\n",
       "0       5937688909     4978118542        False  1618056811       947   5384.0   \n",
       "1       5937680202     4978115238         True  1618056560      1116   3938.0   \n",
       "2       5937677706     4978115412         True  1618056484      1245   4343.0   \n",
       "3       5937677414     4978110742        False  1618056474      1019   3626.0   \n",
       "4       5937677106     4978110923         True  1618056464      1082   3216.0   \n",
       "...            ...            ...          ...         ...       ...      ...   \n",
       "643102  6089060118     5097314681         True  1626324382      2027   4018.0   \n",
       "643103  6089059309     5097314620        False  1626324296      2028   4248.0   \n",
       "643104  6089059010     5097314819        False  1626324291      2173   3255.0   \n",
       "643105  6089058315     5097314572         True  1626324235      2098   3272.0   \n",
       "643106  6089058006     5097314694         True  1626324210      2188   2404.0   \n",
       "\n",
       "        num_mmr  lobby_type  game_mode  avg_rank_tier  num_rank_tier  cluster  \\\n",
       "0           2.0           7         22             80              5      155   \n",
       "1           3.0           7         22             64              8      171   \n",
       "2           2.0           7         22             52              5      151   \n",
       "3           3.0           7         22             57              7      274   \n",
       "4           3.0           7         22             43              7      227   \n",
       "...         ...         ...        ...            ...            ...      ...   \n",
       "643102      1.0           7         22             35              3      251   \n",
       "643103      1.0           7         22             60              2      251   \n",
       "643104      2.0           7         22             47              6      171   \n",
       "643105      2.0           7         22             48              6      155   \n",
       "643106      2.0           7         22             30              2      122   \n",
       "\n",
       "            radiant_team        dire_team  \n",
       "0       19,120,107,79,94  31,49,70,110,25  \n",
       "1         128,5,8,59,112    85,6,56,42,45  \n",
       "2       135,70,104,59,31  58,44,107,46,87  \n",
       "3        20,71,82,114,66  26,46,89,129,14  \n",
       "4         26,8,104,87,11  73,70,135,42,67  \n",
       "...                  ...              ...  \n",
       "643102    87,1,84,17,104   10,33,74,30,83  \n",
       "643103     65,10,14,9,26    27,8,90,74,88  \n",
       "643104     98,51,5,32,93    83,6,44,84,16  \n",
       "643105   102,123,84,76,8   62,46,26,47,44  \n",
       "643106   42,16,86,68,101    6,2,119,129,5  \n",
       "\n",
       "[643107 rows x 14 columns]"
      ]
     },
     "execution_count": 9,
     "metadata": {},
     "output_type": "execute_result"
    }
   ],
   "source": [
    "df"
   ]
  },
  {
   "cell_type": "code",
   "execution_count": 10,
   "metadata": {},
   "outputs": [],
   "source": [
    "# import pandas as pd\n",
    "# pd.set_option('display.max_rows', None)\n",
    "# pd.set_option('display.max_columns', None)"
   ]
  },
  {
   "cell_type": "markdown",
   "metadata": {},
   "source": [
    "### Batasan  memanggil API\n",
    "batas memanggil satu bulan maksimal 50.000 kali dan satu menit maksimal 60 kali, jumlah data terkumpul 1 jam kurang lebih 500 baris data untuk satu hari 10000-11000 baris data"
   ]
  }
 ],
 "metadata": {
  "kernelspec": {
   "display_name": "Python 3",
   "language": "python",
   "name": "python3"
  },
  "language_info": {
   "codemirror_mode": {
    "name": "ipython",
    "version": 3
   },
   "file_extension": ".py",
   "mimetype": "text/x-python",
   "name": "python",
   "nbconvert_exporter": "python",
   "pygments_lexer": "ipython3",
   "version": "3.9.6"
  }
 },
 "nbformat": 4,
 "nbformat_minor": 4
}
